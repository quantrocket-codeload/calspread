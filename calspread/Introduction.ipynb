{
 "cells": [
  {
   "cell_type": "markdown",
   "metadata": {},
   "source": [
    "<img alt=\"QuantRocket logo\" src=\"https://www.quantrocket.com/assets/img/notebook-header-logo.png\">\n",
    "\n",
    "<a href=\"https://www.quantrocket.com/disclaimer/\">Disclaimer</a>"
   ]
  },
  {
   "cell_type": "markdown",
   "metadata": {},
   "source": [
    "# Intraday Futures Calendar Spreads\n",
    "\n",
    "This tutorial demonstrates the mechanics of intraday trading of futures calendar spreads. Uses crude oil futures and 1-minute bid/ask bars from Interactive Brokers with a Bollinger Band mean reversion strategy. Runs in Moonshot."
   ]
  },
  {
   "cell_type": "markdown",
   "metadata": {},
   "source": [
    "## Native vs non-native spreads\n",
    "\n",
    "For backtesting, non-native spreads are used. That is, the spread is computed in the Moonshot code from the historical market data of the individual legs. \n",
    "\n",
    "For live/paper trading, exchange native combos are used. Native combos typically offer narrower bid-ask spreads compared to trading the legs separately. Interactive Brokers provides real-time market data for native combos but does not provide historical data for native combos, hence the need to backtest with non-native spreads. \n",
    "\n",
    "(For more on combos, see the usage guide.)"
   ]
  },
  {
   "cell_type": "markdown",
   "metadata": {},
   "source": [
    "## Backtesting (non-native spreads)\n",
    "\n",
    "* Part 1: [Historical Data Collection](Part1-Historical-Data-Collection.ipynb)\n",
    "* Part 2: [Calendar Spread Research](Part2-Calendar-Spread-Research.ipynb)\n",
    "* Part 3: [Moonshot Strategy](Part3-Moonshot-Strategy.ipynb)"
   ]
  },
  {
   "cell_type": "markdown",
   "metadata": {},
   "source": [
    "## Live/Paper trading (native spreads)\n",
    "\n",
    "* Part 4: [Real-time Data Collection](Part4-Realtime-Data-Collection.ipynb)\n",
    "* Part 5: [Moonshot Native Calendar Spread Strategy](Part5-Moonshot-Native-Spread-Strategy.ipynb)\n",
    "* Part 6: [Scheduling](Part6-Scheduling.ipynb)\n"
   ]
  }
 ],
 "metadata": {
  "kernelspec": {
   "display_name": "Python 3",
   "language": "python",
   "name": "python3"
  },
  "language_info": {
   "codemirror_mode": {
    "name": "ipython",
    "version": 3
   },
   "file_extension": ".py",
   "mimetype": "text/x-python",
   "name": "python",
   "nbconvert_exporter": "python",
   "pygments_lexer": "ipython3",
   "version": "3.7.6"
  }
 },
 "nbformat": 4,
 "nbformat_minor": 4
}
