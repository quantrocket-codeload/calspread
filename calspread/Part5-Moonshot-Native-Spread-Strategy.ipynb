{
 "cells": [
  {
   "cell_type": "markdown",
   "metadata": {},
   "source": [
    "<a href=\"https://www.quantrocket.com\"><img alt=\"QuantRocket logo\" src=\"https://www.quantrocket.com/assets/img/notebook-header-logo.png\"></a><br>\n",
    "<a href=\"https://www.quantrocket.com/disclaimer/\">Disclaimer</a>"
   ]
  },
  {
   "cell_type": "markdown",
   "metadata": {},
   "source": [
    "***\n",
    "[Intraday Futures Calendar Spreads](Introduction.ipynb) › Part 5: Moonshot Native Spread Strategy\n",
    "***"
   ]
  },
  {
   "cell_type": "markdown",
   "metadata": {},
   "source": [
    "# Moonshot Native Spread Strategy\n",
    "\n",
    "To run the earlier Moonshot strategy on a native calendar spread requires modified code because we are now trading a single instrument instead of multiple instruments. The modified code is provided in [calspread_native.py](calspread_native.py). "
   ]
  },
  {
   "cell_type": "markdown",
   "metadata": {},
   "source": [
    "## Code highlights\n",
    "\n",
    "### Target weights\n",
    "Moonshot expects target weights to be defined as a percentage of capital: for example, a target weight of 0.10 tells Moonshot to buy a number of futures contracts equal to 10% of capital, based on the contract's price and multiplier. This presents a problem for native combos, as the combo price is often a small number (specifically, the difference in price of the two legs), which can result in Moonshot calculating a large number of contracts that should be ordered. \n",
    "\n",
    "The recommended solution is to specify the exact number of spread contracts to order, rather than relying on percentage weights. To accomplish this, we first set the percentage weights extremely high in `signals_to_target_weights`:\n",
    "    \n",
    "```python\n",
    "def signals_to_target_weights(self, signals, prices):\n",
    "    weights = signals * 1000\n",
    "    return weights\n",
    "```\n",
    "\n",
    "Then, we reduce the weights to the exact desired quantities (in this example 1 contract) in `limit_position_sizes`:\n",
    "\n",
    "```python\n",
    "def limit_position_sizes(self, prices):\n",
    "    \"\"\"\n",
    "    Limit the position sizes to 1 spread contract.\n",
    "\n",
    "    (Note that limit_position_sizes only cares about absolute values so no need\n",
    "    to worry about signs.)\n",
    "    \"\"\"\n",
    "    bids = prices.loc[\"BidPriceClose\"]\n",
    "    ones = pd.DataFrame(1, index=bids.index, columns=bids.columns)\n",
    "    max_quantities_for_longs = max_quantities_for_shorts = ones\n",
    "    return max_quantities_for_longs, max_quantities_for_shorts\n",
    "```\n",
    "\n",
    "### Orders\n",
    "To support live/paper trading, the native spread strategy defines an `order_stubs_to_orders` method which routes orders to NYMEX, ensuring the combo orders are executed as native orders (see the usage guide to learn more):\n",
    "\n",
    "```python\n",
    "def order_stubs_to_orders(self, orders, prices):\n",
    "    orders[\"Exchange\"] = \"NYMEX\"\n",
    "    orders[\"OrderType\"] = \"MKT\"\n",
    "    orders[\"Tif\"] = \"DAY\"\n",
    "    return orders\n",
    "```"
   ]
  },
  {
   "cell_type": "markdown",
   "metadata": {},
   "source": [
    "### Install strategy file\n",
    "\n",
    "Install the strategy by moving it to the `/codeload/moonshot` directory:"
   ]
  },
  {
   "cell_type": "code",
   "execution_count": 1,
   "metadata": {},
   "outputs": [],
   "source": [
    "!mv calspread_native.py /codeload/moonshot/"
   ]
  },
  {
   "cell_type": "markdown",
   "metadata": {},
   "source": [
    "## Example Backtest\n",
    "\n",
    "After collecting an adequate amount of real-time data (at least enough to cover `BBAND_LOOKBACK_WINDOW`), it is possible to run a backtest of the modified strategy. To generate trading activity for the backtest, we use the `params` argument to reset some parameters on-the-fly to lower their thresholds:"
   ]
  },
  {
   "cell_type": "code",
   "execution_count": 2,
   "metadata": {},
   "outputs": [],
   "source": [
    "from quantrocket.moonshot import backtest\n",
    "backtest(\"calspread-native-cl\", \n",
    "         filepath_or_buffer=\"calspread_native_cl_results.csv\", \n",
    "         params={\n",
    "             \"BBAND_LOOKBACK_WINDOW\":10,\n",
    "             \"BBAND_STD\": 1},\n",
    "         nlv={\"USD\":500000},\n",
    "         details=True)"
   ]
  },
  {
   "cell_type": "markdown",
   "metadata": {},
   "source": [
    "Then we see if there were any trades:"
   ]
  },
  {
   "cell_type": "code",
   "execution_count": 3,
   "metadata": {},
   "outputs": [
    {
     "data": {
      "text/plain": [
       "<matplotlib.axes._subplots.AxesSubplot at 0x7f6632c47fd0>"
      ]
     },
     "execution_count": 3,
     "metadata": {},
     "output_type": "execute_result"
    },
    {
     "data": {
      "image/png": "[encoded data removed]",
      "text/plain": [
       "<Figure size 1152x432 with 1 Axes>"
      ]
     },
     "metadata": {},
     "output_type": "display_data"
    }
   ],
   "source": [
    "from quantrocket.moonshot import read_moonshot_csv\n",
    "results = read_moonshot_csv(\"calspread_native_cl_results.csv\")\n",
    "results.loc[\"NetExposure\"].plot()"
   ]
  },
  {
   "cell_type": "markdown",
   "metadata": {},
   "source": [
    "## Account allocation\n",
    "\n",
    "To trade the strategy, we must allocate `calspread-native-cl` to one or more accounts. Open [quantrocket.moonshot.allocations.yml](quantrocket.moonshot.allocations.yml), edit the account number to match your live or paper IB account, and edit the capital allocation percentage as desired.\n",
    "\n",
    "If you don't already have a `quantrocket.moonshot.allocations.yml` in the `/codeload` directory (i.e. top level of the Jupyter file browser), you can execute the following command to copy it over. Otherwise, append the new allocation to your existing file."
   ]
  },
  {
   "cell_type": "code",
   "execution_count": 1,
   "metadata": {},
   "outputs": [],
   "source": [
    "# move file over unless it already exists\n",
    "![ -e /codeload/quantrocket.moonshot.allocations.y*ml ] && echo 'oops, the file already exists!' || mv quantrocket.moonshot.allocations.yml /codeload/"
   ]
  },
  {
   "cell_type": "markdown",
   "metadata": {},
   "source": [
    "## Generate Moonshot orders\n",
    "\n",
    "Next we can run Moonshot's `trade` command to generate example orders. \n",
    "\n",
    "First, we check the backtest results for a time when a signal was generated: "
   ]
  },
  {
   "cell_type": "code",
   "execution_count": 4,
   "metadata": {},
   "outputs": [
    {
     "data": {
      "text/html": [
       "<div>\n",
       "<style scoped>\n",
       "    .dataframe tbody tr th:only-of-type {\n",
       "        vertical-align: middle;\n",
       "    }\n",
       "\n",
       "    .dataframe tbody tr th {\n",
       "        vertical-align: top;\n",
       "    }\n",
       "\n",
       "    .dataframe thead th {\n",
       "        text-align: right;\n",
       "    }\n",
       "</style>\n",
       "<table border=\"1\" class=\"dataframe\">\n",
       "  <thead>\n",
       "    <tr style=\"text-align: right;\">\n",
       "      <th></th>\n",
       "      <th></th>\n",
       "      <th>CL(IC1)</th>\n",
       "    </tr>\n",
       "    <tr>\n",
       "      <th>Date</th>\n",
       "      <th>Time</th>\n",
       "      <th></th>\n",
       "    </tr>\n",
       "  </thead>\n",
       "  <tbody>\n",
       "    <tr>\n",
       "      <th rowspan=\"4\" valign=\"top\">2019-09-23</th>\n",
       "      <th>16:03:00</th>\n",
       "      <td>-1.0</td>\n",
       "    </tr>\n",
       "    <tr>\n",
       "      <th>16:07:00</th>\n",
       "      <td>-1.0</td>\n",
       "    </tr>\n",
       "    <tr>\n",
       "      <th>16:17:00</th>\n",
       "      <td>-1.0</td>\n",
       "    </tr>\n",
       "    <tr>\n",
       "      <th>16:22:00</th>\n",
       "      <td>-1.0</td>\n",
       "    </tr>\n",
       "    <tr>\n",
       "      <th>2019-09-24</th>\n",
       "      <th>08:14:00</th>\n",
       "      <td>1.0</td>\n",
       "    </tr>\n",
       "  </tbody>\n",
       "</table>\n",
       "</div>"
      ],
      "text/plain": [
       "                     CL(IC1)\n",
       "Date       Time              \n",
       "2019-09-23 16:03:00      -1.0\n",
       "           16:07:00      -1.0\n",
       "           16:17:00      -1.0\n",
       "           16:22:00      -1.0\n",
       "2019-09-24 08:14:00       1.0"
      ]
     },
     "execution_count": 4,
     "metadata": {},
     "output_type": "execute_result"
    }
   ],
   "source": [
    "signals = results.loc[\"Signal\"]\n",
    "signals.where(signals != 0).dropna().head()"
   ]
  },
  {
   "cell_type": "markdown",
   "metadata": {},
   "source": [
    "For testing purposes, edit the strategy file so that the strategy parameters match those used to produce the backtest results (`BBAND_WINDOW = 10` and `BBAND_STD = 1` were the parameters we set on-the-fly in this example).  \n",
    "\n",
    "Then we can use the `--review-date` parameter to tell Moonshot to generate orders as if it were one of the above example times. Moonshot returns a CSV of orders, which we format for the terminal with `csvlook`:"
   ]
  },
  {
   "cell_type": "code",
   "execution_count": 5,
   "metadata": {},
   "outputs": [
    {
     "name": "stdout",
     "output_type": "stream",
     "text": [
      "| Sid | Account | Action | OrderRef            | TotalQuantity | Exchange | OrderType | Tif |\n",
      "| --- | ------- | ------ | ------------------- | ------------- | -------- | --------- | --- |\n",
      "| IC1 | DU12345 | SELL   | calspread-native-cl | 1             | NYMEX    | MKT       | DAY |\n"
     ]
    }
   ],
   "source": [
    "!quantrocket moonshot trade 'calspread-native-cl' --review-date '2019-09-23 16:17:00' | csvlook -I"
   ]
  },
  {
   "cell_type": "markdown",
   "metadata": {},
   "source": [
    "***\n",
    "\n",
    "## *Next Up*\n",
    "\n",
    "Part 6: [Scheduling](Part6-Scheduling.ipynb)"
   ]
  }
 ],
 "metadata": {
  "kernelspec": {
   "display_name": "Python 3.11",
   "language": "python",
   "name": "python3"
  },
  "language_info": {
   "codemirror_mode": {
    "name": "ipython",
    "version": 3
   },
   "file_extension": ".py",
   "mimetype": "text/x-python",
   "name": "python",
   "nbconvert_exporter": "python",
   "pygments_lexer": "ipython3",
   "version": "3.11.0"
  }
 },
 "nbformat": 4,
 "nbformat_minor": 4
}
